{
 "cells": [
  {
   "cell_type": "markdown",
   "id": "possible-symphony",
   "metadata": {},
   "source": [
    "### Import library"
   ]
  },
  {
   "cell_type": "code",
   "execution_count": 1,
   "id": "hybrid-microphone",
   "metadata": {},
   "outputs": [],
   "source": [
    "from selenium import webdriver\n",
    "from bs4 import BeautifulSoup\n",
    "import re\n",
    "import csv\n",
    "from selenium.webdriver.support.ui import WebDriverWait\n",
    "from selenium.webdriver.support import expected_conditions as EC\n",
    "from selenium.webdriver.common.by import By\n",
    "from selenium.common.exceptions import TimeoutException\n",
    "from selenium.webdriver.chrome.options import Options\n",
    "import time\n",
    "import pandas as pd"
   ]
  },
  {
   "cell_type": "markdown",
   "id": "express-greek",
   "metadata": {},
   "source": [
    "### Define driver"
   ]
  },
  {
   "cell_type": "code",
   "execution_count": 2,
   "id": "concerned-intro",
   "metadata": {},
   "outputs": [],
   "source": [
    "# wd = webdriver.Firefox()\n",
    "# wd.get('https://www.tokopedia.com/search?st=product&q=sepatu&navsource=home')"
   ]
  },
  {
   "cell_type": "code",
   "execution_count": 3,
   "id": "industrial-classic",
   "metadata": {},
   "outputs": [],
   "source": [
    "chrome_options = Options()\n",
    "chrome_options.add_argument('user-agent=Chrome/92.0.4515.159')\n",
    "chrome_options.add_argument('log-level=2')\n",
    "driver = webdriver.Chrome('./chromedriver.exe',options=chrome_options)\n",
    "timeout=10"
   ]
  },
  {
   "cell_type": "markdown",
   "id": "charged-narrow",
   "metadata": {},
   "source": [
    "### Connect with tokopedia url"
   ]
  },
  {
   "cell_type": "code",
   "execution_count": 6,
   "id": "deluxe-supplier",
   "metadata": {},
   "outputs": [],
   "source": [
    "url = 'https://www.tokopedia.com/search?st=product&q=sepatu%20vans&navsource=home'\n",
    "driver.get(url)\n",
    "time.sleep(5)"
   ]
  },
  {
   "cell_type": "markdown",
   "id": "renewable-brave",
   "metadata": {},
   "source": [
    "### Get link product"
   ]
  },
  {
   "cell_type": "code",
   "execution_count": 7,
   "id": "pressed-taste",
   "metadata": {},
   "outputs": [],
   "source": [
    "link_product = []\n",
    "while len(link_product) < 150:\n",
    "    try:\n",
    "        driver.execute_script('window.scrollTo(0,5000);')\n",
    "        time.sleep(3)\n",
    "        driver.execute_script('window.scrollTo(0,8000);')\n",
    "        time.sleep(3)\n",
    "        driver.execute_script('window.scrollTo(0,10000);')\n",
    "        time.sleep(3)\n",
    "        soup = BeautifulSoup(driver.page_source, 'html.parser')\n",
    "        products = soup.find('div', attrs={'data-testid':'divSRPContentProducts'})\n",
    "        for product in soup.find_all('a', attrs={'class':'pcv3__info-content'}):\n",
    "            product_link = product.get('href')\n",
    "            if len(product_link) <=500:\n",
    "                link_product.append(product_link)\n",
    "        time.sleep(3)\n",
    "        driver.find_element_by_css_selector(\"button[aria-label='Halaman berikutnya']\").click()\n",
    "        time.sleep(5)\n",
    "    except TimeoutException:\n",
    "        print('failed to get links with query ')"
   ]
  },
  {
   "cell_type": "code",
   "execution_count": 8,
   "id": "resistant-steam",
   "metadata": {},
   "outputs": [
    {
     "data": {
      "text/plain": [
       "180"
      ]
     },
     "execution_count": 8,
     "metadata": {},
     "output_type": "execute_result"
    }
   ],
   "source": [
    "seen = set()\n",
    "uniq_link=[]\n",
    "for x in link_product:\n",
    "    if x not in seen:\n",
    "        uniq_link.append(x)\n",
    "        seen.add(x)\n",
    "len(uniq_link)"
   ]
  },
  {
   "cell_type": "markdown",
   "id": "bacterial-whole",
   "metadata": {},
   "source": [
    "### Get data product"
   ]
  },
  {
   "cell_type": "code",
   "execution_count": 14,
   "id": "subsequent-bottom",
   "metadata": {},
   "outputs": [],
   "source": [
    "name = []\n",
    "price = []\n",
    "discount = []\n",
    "rate = []\n",
    "sold_amount = []\n",
    "noOfRate = []\n",
    "shop_name =[]\n",
    "location = []\n",
    "\n",
    "for link in link_product:\n",
    "    try:\n",
    "        url_product = link\n",
    "        driver.get(url_product)\n",
    "        time.sleep(6)\n",
    "        driver.execute_script('window.scrollTo(0,500);')\n",
    "        time.sleep(4)\n",
    "        driver.execute_script('window.scrollTo(0,900);')\n",
    "        time.sleep(4)\n",
    "        soup = BeautifulSoup(driver.page_source, 'html.parser')\n",
    "        \n",
    "        # name\n",
    "        if soup.find('h1' , class_='css-1wtrxts'):\n",
    "            name0 = soup.find('h1' , class_='css-1wtrxts')\n",
    "            name.append(name0.text.strip())\n",
    "        else:\n",
    "            name.append(None)\n",
    "        \n",
    "        # price\n",
    "        if soup.find('div', class_='price'):\n",
    "            price0 = soup.find('div', class_='price')\n",
    "            price.append(price0.text.strip())\n",
    "        else:\n",
    "            price.append('0')\n",
    "        \n",
    "        # discond\n",
    "        if soup.find('span', attrs={'data-testid':'lblPDPDetailDiscountPercentage'}):\n",
    "            discount0 = soup.find('span', attrs={'data-testid':'lblPDPDetailDiscountPercentage'})\n",
    "            discount.append(discount0.text.strip())\n",
    "        else:\n",
    "            discount.append(None)\n",
    "        \n",
    "        #rating \n",
    "        if soup.find('span', attrs={'data-testid':'lblPDPDetailProductRatingNumber'}):\n",
    "            rate0 = soup.find('span', attrs={'data-testid':'lblPDPDetailProductRatingNumber'})\n",
    "            rate.append(rate0.text.strip())\n",
    "        else:\n",
    "            rate.append('0')\n",
    "        \n",
    "        #noOfRate\n",
    "        if soup.find('span', attrs={'data-testid':'lblPDPDetailProductRatingCounter'}):\n",
    "            noOfRate0 = soup.find('span', attrs={'data-testid':'lblPDPDetailProductRatingCounter'})\n",
    "            noOfRate.append(noOfRate0.text.strip())\n",
    "        else:\n",
    "            noOfRate.append('0')\n",
    "        \n",
    "        #sold_amount\n",
    "        if soup.find('div', attrs={'data-testid':'lblPDPDetailProductSoldCounter'}):\n",
    "            sold_amount0 = soup.find('div', attrs={'data-testid':'lblPDPDetailProductSoldCounter'})\n",
    "            sold_amount.append(sold_amount0.text.strip())\n",
    "        else:\n",
    "            sold_amount.append('0')\n",
    "        \n",
    "        #shop_name\n",
    "        shop_name0 = soup.find('a', attrs={'data-testid':'llbPDPFooterShopName'})\n",
    "        if shop_name0.find('h2'):\n",
    "            shop_name1 = shop_name0.find('h2')\n",
    "            shop_name.append(shop_name1.text.strip())\n",
    "        else:\n",
    "            shop_name.append(None)\n",
    "        \n",
    "        #location\n",
    "        shipment = soup.find_all('div', attrs={'class':'css-1le9c0d'})\n",
    "        if shipment[0].find('b'):\n",
    "            location0 = shipment[0].find('b')\n",
    "            location.append(location0.text.strip())\n",
    "        else:\n",
    "            location.append(None)\n",
    "    except TimeoutException:\n",
    "        print('failed to get desc with query '+line)"
   ]
  },
  {
   "cell_type": "code",
   "execution_count": 204,
   "id": "rational-frank",
   "metadata": {},
   "outputs": [
    {
     "data": {
      "text/plain": [
       "113"
      ]
     },
     "execution_count": 204,
     "metadata": {},
     "output_type": "execute_result"
    }
   ],
   "source": [
    "len(link_product[3])"
   ]
  },
  {
   "cell_type": "code",
   "execution_count": 16,
   "id": "norwegian-federation",
   "metadata": {},
   "outputs": [
    {
     "data": {
      "text/html": [
       "<div>\n",
       "<style scoped>\n",
       "    .dataframe tbody tr th:only-of-type {\n",
       "        vertical-align: middle;\n",
       "    }\n",
       "\n",
       "    .dataframe tbody tr th {\n",
       "        vertical-align: top;\n",
       "    }\n",
       "\n",
       "    .dataframe thead th {\n",
       "        text-align: right;\n",
       "    }\n",
       "</style>\n",
       "<table border=\"1\" class=\"dataframe\">\n",
       "  <thead>\n",
       "    <tr style=\"text-align: right;\">\n",
       "      <th></th>\n",
       "      <th>product_name</th>\n",
       "      <th>shop_name</th>\n",
       "      <th>location</th>\n",
       "      <th>price</th>\n",
       "      <th>discount</th>\n",
       "      <th>amount_sold</th>\n",
       "      <th>rating</th>\n",
       "      <th>no_of_rating</th>\n",
       "      <th>link_product</th>\n",
       "    </tr>\n",
       "  </thead>\n",
       "  <tbody>\n",
       "    <tr>\n",
       "      <th>0</th>\n",
       "      <td>Sepatu VANS OLD SKOOL hitam putih - 40</td>\n",
       "      <td>NAF SHOES</td>\n",
       "      <td>Kab. Tangerang</td>\n",
       "      <td>Rp55.900</td>\n",
       "      <td>None</td>\n",
       "      <td>Terjual 625</td>\n",
       "      <td>4.7</td>\n",
       "      <td>(324 ulasan)</td>\n",
       "      <td>https://www.tokopedia.com/nafshoes888/sepatu-v...</td>\n",
       "    </tr>\n",
       "    <tr>\n",
       "      <th>1</th>\n",
       "      <td>SEPATU VANS VAULT OLD SKOOL OG BLACK WHITE GRA...</td>\n",
       "      <td>4SDOnlineshop</td>\n",
       "      <td>Jakarta Selatan</td>\n",
       "      <td>Rp114.000</td>\n",
       "      <td>5%</td>\n",
       "      <td>Terjual 253</td>\n",
       "      <td>4.7</td>\n",
       "      <td>(147 ulasan)</td>\n",
       "      <td>https://www.tokopedia.com/4sdonlineshop/sepatu...</td>\n",
       "    </tr>\n",
       "    <tr>\n",
       "      <th>2</th>\n",
       "      <td>Sepatu Vans Oldskool/Vans cowok/vans cewek/van...</td>\n",
       "      <td>Azkaputra</td>\n",
       "      <td>Jakarta Utara</td>\n",
       "      <td>Rp140.000</td>\n",
       "      <td>None</td>\n",
       "      <td>Terjual 3.080</td>\n",
       "      <td>4.7</td>\n",
       "      <td>(1.359 ulasan)</td>\n",
       "      <td>https://www.tokopedia.com/selpiasti/sepatu-van...</td>\n",
       "    </tr>\n",
       "    <tr>\n",
       "      <th>3</th>\n",
       "      <td>Sepatu Vans OldSkool Fullwhite/Putih Pria &amp; Wa...</td>\n",
       "      <td>Arty's Shoes</td>\n",
       "      <td>Kab. Tangerang</td>\n",
       "      <td>Rp70.000</td>\n",
       "      <td>None</td>\n",
       "      <td>Terjual 1.298</td>\n",
       "      <td>4.5</td>\n",
       "      <td>(687 ulasan)</td>\n",
       "      <td>https://www.tokopedia.com/artyshoes/sepatu-van...</td>\n",
       "    </tr>\n",
       "    <tr>\n",
       "      <th>4</th>\n",
       "      <td>SEPATU VANS OLD SKOOL VAULT OG RAINBOW GREEN G...</td>\n",
       "      <td>4SDOnlineshop</td>\n",
       "      <td>Jakarta Selatan</td>\n",
       "      <td>Rp118.750</td>\n",
       "      <td>5%</td>\n",
       "      <td>Terjual 136</td>\n",
       "      <td>4.8</td>\n",
       "      <td>(71 ulasan)</td>\n",
       "      <td>https://www.tokopedia.com/4sdonlineshop/sepatu...</td>\n",
       "    </tr>\n",
       "  </tbody>\n",
       "</table>\n",
       "</div>"
      ],
      "text/plain": [
       "                                        product_name      shop_name  \\\n",
       "0             Sepatu VANS OLD SKOOL hitam putih - 40      NAF SHOES   \n",
       "1  SEPATU VANS VAULT OLD SKOOL OG BLACK WHITE GRA...  4SDOnlineshop   \n",
       "2  Sepatu Vans Oldskool/Vans cowok/vans cewek/van...      Azkaputra   \n",
       "3  Sepatu Vans OldSkool Fullwhite/Putih Pria & Wa...   Arty's Shoes   \n",
       "4  SEPATU VANS OLD SKOOL VAULT OG RAINBOW GREEN G...  4SDOnlineshop   \n",
       "\n",
       "          location      price discount    amount_sold rating    no_of_rating  \\\n",
       "0   Kab. Tangerang   Rp55.900     None    Terjual 625    4.7    (324 ulasan)   \n",
       "1  Jakarta Selatan  Rp114.000       5%    Terjual 253    4.7    (147 ulasan)   \n",
       "2    Jakarta Utara  Rp140.000     None  Terjual 3.080    4.7  (1.359 ulasan)   \n",
       "3   Kab. Tangerang   Rp70.000     None  Terjual 1.298    4.5    (687 ulasan)   \n",
       "4  Jakarta Selatan  Rp118.750       5%    Terjual 136    4.8     (71 ulasan)   \n",
       "\n",
       "                                        link_product  \n",
       "0  https://www.tokopedia.com/nafshoes888/sepatu-v...  \n",
       "1  https://www.tokopedia.com/4sdonlineshop/sepatu...  \n",
       "2  https://www.tokopedia.com/selpiasti/sepatu-van...  \n",
       "3  https://www.tokopedia.com/artyshoes/sepatu-van...  \n",
       "4  https://www.tokopedia.com/4sdonlineshop/sepatu...  "
      ]
     },
     "execution_count": 16,
     "metadata": {},
     "output_type": "execute_result"
    }
   ],
   "source": [
    "df = pd.DataFrame(list(zip(name, shop_name, location, price, discount, sold_amount, rate, noOfRate, link_product)),\n",
    "                 columns=['product_name', 'shop_name', 'location', 'price', 'discount', 'amount_sold', 'rating', 'no_of_rating', 'link_product'])\n",
    "df.head()"
   ]
  },
  {
   "cell_type": "markdown",
   "id": "organized-routine",
   "metadata": {},
   "source": [
    "### Save file"
   ]
  },
  {
   "cell_type": "code",
   "execution_count": 17,
   "id": "handled-mathematics",
   "metadata": {},
   "outputs": [],
   "source": [
    "df.to_json('vans_tokped.json',orient='index')"
   ]
  },
  {
   "cell_type": "code",
   "execution_count": 18,
   "id": "speaking-plastic",
   "metadata": {},
   "outputs": [],
   "source": [
    "df.to_csv('vans_tokped.csv',index=False)"
   ]
  },
  {
   "cell_type": "code",
   "execution_count": null,
   "id": "impressed-increase",
   "metadata": {},
   "outputs": [],
   "source": []
  }
 ],
 "metadata": {
  "kernelspec": {
   "display_name": "Python 3",
   "language": "python",
   "name": "python3"
  },
  "language_info": {
   "codemirror_mode": {
    "name": "ipython",
    "version": 3
   },
   "file_extension": ".py",
   "mimetype": "text/x-python",
   "name": "python",
   "nbconvert_exporter": "python",
   "pygments_lexer": "ipython3",
   "version": "3.8.5"
  }
 },
 "nbformat": 4,
 "nbformat_minor": 5
}
